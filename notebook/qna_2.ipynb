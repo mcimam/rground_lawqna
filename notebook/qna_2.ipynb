{
 "cells": [
  {
   "cell_type": "code",
   "execution_count": null,
   "metadata": {},
   "outputs": [],
   "source": []
  },
  {
   "cell_type": "markdown",
   "metadata": {},
   "source": [
    "# Description\n",
    "\n",
    "This is 2nd attempt to understand hugging face question answer model.\n",
    "\n",
    "What we want to accomplish here is to try retriver->generator model.\n",
    "\n",
    "**Reference**:\n",
    "- [Text generation](https://huggingface.co/tasks/text-generation)\n",
    "- [Chat UI](https://github.com/huggingface/chat-ui)\n"
   ]
  },
  {
   "cell_type": "code",
   "execution_count": 11,
   "metadata": {},
   "outputs": [],
   "source": [
    "context_indo = \"\"\"\n",
    "Situs bersejarah yang terletak di pegunungan High Atlas, Masjid Tinmel, rusak akibat gempa dahsyat berkekuatan 6,8 magnitudo yang mengguncang Maroko pada Jumat (8/9).\n",
    "Beberapa bagian dari Masjid Tinmel telah roboh akibat diguncang gempa. Tampak dinding-dinding masjid sudah roboh, menara yang setengah runtuh, serta tumpukan puing-puing raksasa.\n",
    "Terkait laporan adanya kerusakan di Masjid Tinmel, Kementerian Kebudayaan Maroko menyebut telah mengetahui hal itu dan menindaklanjuti restorasinya.\n",
    "Masjid Tinmel dibangun dari tanah dan batu oleh Dinasti Almohad sebagai pondasi didirikannya pemerintahan di Desa Tinmel pada tahun 1121. Dari wilayah pegunungan terjal High Atlas ini, Dinasti Almohad kemudian mengepakkan sayapnya dan merebut Kota Marrakesh.\n",
    "Per Minggu (10/9), jumlah korban tewas gempa Maroko meningkat menjadi 2.122 orang dan 2.421 orang terluka.\n",
    "Pusat gempa berada di wilayah pegunungan Atlas yang berjarak 70 kilometer dari Marrakech. USGS mencatat gempa tersebut masuk kategori dangkal, kedalamannya sejauh 18 kilometer.\n",
    "\"\"\"\n",
    "\n",
    "question_indo = \"\"\"Bagaimana tindakan Kementerian Kebudayaan Maroko?\"\"\"\n",
    "\n",
    "\n",
    "context_eng = \"\"\"\n",
    " Rescuers are searching through rubble and trying to reach isolated communities after a devastating earthquake struck Morocco, killing thousands and leaving more injured or unaccounted for.\n",
    "The quake is the strongest to hit the nation’s center in more than a century, and its epicenter was not far from popular tourist and economic hub Marrakech.\n",
    "At least 2,497 people have been killed in the disaster and 2,476 have been injured, state media said on Monday.\n",
    "\n",
    "Here’s what we know so far.\n",
    "\n",
    "When and where did the quake hit?\n",
    "The earthquake struck at around 11.11 p.m. local time (6.11 p.m ET) on Friday. Its epicenter was located in the High Atlas mountain range, about 72 kilometers (44.7 miles) southwest of Marrakech, a city of about 840,000 people.\n",
    "Its impact was felt far and wide, reaching as far north as Casablanca. But it most severely damaged towns and villages near the base of the Atlas Mountains, while also ripping through the center and suburbs of Marrakech. \n",
    "\n",
    "The quake had a magnitude of 6.8, meaning it is classed as “strong.” It also struck at a relatively shallow depth, making it more destructive.\n",
    "Morocco has suffered earthquakes in the past, but few in its history have been so powerful. This quake is Morocco’s deadliest since 1960, when an earthquake killed more than 12,000 people.\n",
    "Earthquakes of this size in the region are uncommon, according to the US Geological Survey, but not unexpected. It noted that nine quakes with a magnitude of 5 or higher have hit the area since 1900, but none of them have had a magnitude higher than 6. \n",
    "\n",
    "Nearly 1,500 people have died in the province of Al Haouz, where the quake was most devastating. The region, like many other badly affected locations, lies south of Morocco at the foot of the Atlas Mountains, and includes remote villages and settlements that have been difficult for rescuers to reach.\n",
    "Eyewitnesses in the foothills of the mountains said some towns are completely destroyed, with almost all the homes in an area of the village of Asni damaged.\n",
    "The scale of the quake’s impact is still becoming clear, but eyewitnesses CNN spoke to gave a sense of the destruction, especially in isolated villages that have been most badly hit. \n",
    "\n",
    " Soumia Sandoval, based in Los Angeles, California, told CNN she learned from family friends that their village at the base of the mountains was flattened by the quake. Mustapha Louaanabi, who also lives in the foothills of the Atlas Mountains, described the moment the earthquake struck, saying there were “loud, deafening noises” and it felt as if “a train was passing right in the middle of the living room.”\n",
    "\n",
    "More than 400 meanwhile perished in the southwestern Moroccan city of Taroudant.\n",
    "And more than 300,000 people have been affected in Marrakech and surrounding areas, according to the WHO. Historic sites have been damaged there; a small mosque at the heart of the Marrakech Medina in the city’s historical quarter almost entire collapsed.\n",
    "The Marrakech Medina, a UNESCO World Heritage site, was hit by the quake. The Medina district dates back centuries and is enclosed by walls built of red sandstone. Many of the old buildings inside the Medina have been damaged and some have collapsed entirely.\n",
    "Outside the city, images showed the 12th century Tinmal Mosque in the High Atlas mountains had been badly damaged. \n",
    "\"\"\"\n",
    "\n",
    "question_eng = \"What we know so far about maroko's earthquake?\"\n",
    "\n"
   ]
  },
  {
   "cell_type": "code",
   "execution_count": 7,
   "metadata": {},
   "outputs": [
    {
     "name": "stdout",
     "output_type": "stream",
     "text": [
      "[{'generated_text': 'the answer to life'}]\n",
      "[{'generated_text': 'hidup, semesta, dan segalanya'}]\n"
     ]
    }
   ],
   "source": [
    "from transformers import pipeline\n",
    "from transformers import AutoTokenizer, AutoModelForSeq2SeqLM\n",
    "\n",
    "#try basic one\n",
    "tokenizer = AutoTokenizer.from_pretrained(\"google/flan-t5-base\", model_max_length=100000)\n",
    "model = AutoModelForSeq2SeqLM.from_pretrained(\"google/flan-t5-base\")\n",
    "\n",
    "text2text_generator = pipeline(\"text2text-generation\", model=model, tokenizer=tokenizer)\n",
    "print(text2text_generator(\"question: What is 42 ? context: 42 is the answer to life, the universe and everything\"))\n",
    "\n",
    "text2text_generator = pipeline(\"text2text-generation\", model=model, tokenizer=tokenizer)\n",
    "print(text2text_generator(\"question: Apa itu 42 ? context: 42 merupakan jawaban hidup, semesta, dan segalanya\"))\n"
   ]
  },
  {
   "cell_type": "code",
   "execution_count": 14,
   "metadata": {},
   "outputs": [
    {
     "name": "stdout",
     "output_type": "stream",
     "text": [
      "question: Bagaimana tindakan Kementerian Kebudayaan Maroko? \n",
      " context:\n",
      "Situs bersejarah yang terletak di pegunungan High Atlas, Masjid Tinmel, rusak akibat gempa dahsyat berkekuatan 6,8 magnitudo yang mengguncang Maroko pada Jumat (8/9).\n",
      "Beberapa bagian dari Masjid Tinmel telah roboh akibat diguncang gempa. Tampak dinding-dinding masjid sudah roboh, menara yang setengah runtuh, serta tumpukan puing-puing raksasa.\n",
      "Terkait laporan adanya kerusakan di Masjid Tinmel, Kementerian Kebudayaan Maroko menyebut telah mengetahui hal itu dan menindaklanjuti restorasinya.\n",
      "Masjid Tinmel dibangun dari tanah dan batu oleh Dinasti Almohad sebagai pondasi didirikannya pemerintahan di Desa Tinmel pada tahun 1121. Dari wilayah pegunungan terjal High Atlas ini, Dinasti Almohad kemudian mengepakkan sayapnya dan merebut Kota Marrakesh.\n",
      "Per Minggu (10/9), jumlah korban tewas gempa Maroko meningkat menjadi 2.122 orang dan 2.421 orang terluka.\n",
      "Pusat gempa berada di wilayah pegunungan Atlas yang berjarak 70 kilometer dari Marrakech. USGS mencatat gempa tersebut masuk kategori dangkal, kedalamannya sejauh 18 kilometer.\n",
      "\n",
      "[{'generated_text': 'kembali kembali kembali kembal'}]\n",
      "======================================================================================\n",
      "question: What we know so far about maroko's earthquake? \n",
      " context:\n",
      " Rescuers are searching through rubble and trying to reach isolated communities after a devastating earthquake struck Morocco, killing thousands and leaving more injured or unaccounted for.\n",
      "The quake is the strongest to hit the nation’s center in more than a century, and its epicenter was not far from popular tourist and economic hub Marrakech.\n",
      "At least 2,497 people have been killed in the disaster and 2,476 have been injured, state media said on Monday.\n",
      "\n",
      "Here’s what we know so far.\n",
      "\n",
      "When and where did the quake hit?\n",
      "The earthquake struck at around 11.11 p.m. local time (6.11 p.m ET) on Friday. Its epicenter was located in the High Atlas mountain range, about 72 kilometers (44.7 miles) southwest of Marrakech, a city of about 840,000 people.\n",
      "Its impact was felt far and wide, reaching as far north as Casablanca. But it most severely damaged towns and villages near the base of the Atlas Mountains, while also ripping through the center and suburbs of Marrakech. \n",
      "\n",
      "The quake had a magnitude of 6.8, meaning it is classed as “strong.” It also struck at a relatively shallow depth, making it more destructive.\n",
      "Morocco has suffered earthquakes in the past, but few in its history have been so powerful. This quake is Morocco’s deadliest since 1960, when an earthquake killed more than 12,000 people.\n",
      "Earthquakes of this size in the region are uncommon, according to the US Geological Survey, but not unexpected. It noted that nine quakes with a magnitude of 5 or higher have hit the area since 1900, but none of them have had a magnitude higher than 6. \n",
      "\n",
      "Nearly 1,500 people have died in the province of Al Haouz, where the quake was most devastating. The region, like many other badly affected locations, lies south of Morocco at the foot of the Atlas Mountains, and includes remote villages and settlements that have been difficult for rescuers to reach.\n",
      "Eyewitnesses in the foothills of the mountains said some towns are completely destroyed, with almost all the homes in an area of the village of Asni damaged.\n",
      "The scale of the quake’s impact is still becoming clear, but eyewitnesses CNN spoke to gave a sense of the destruction, especially in isolated villages that have been most badly hit. \n",
      "\n",
      " Soumia Sandoval, based in Los Angeles, California, told CNN she learned from family friends that their village at the base of the mountains was flattened by the quake. Mustapha Louaanabi, who also lives in the foothills of the Atlas Mountains, described the moment the earthquake struck, saying there were “loud, deafening noises” and it felt as if “a train was passing right in the middle of the living room.”\n",
      "\n",
      "More than 400 meanwhile perished in the southwestern Moroccan city of Taroudant.\n",
      "And more than 300,000 people have been affected in Marrakech and surrounding areas, according to the WHO. Historic sites have been damaged there; a small mosque at the heart of the Marrakech Medina in the city’s historical quarter almost entire collapsed.\n",
      "The Marrakech Medina, a UNESCO World Heritage site, was hit by the quake. The Medina district dates back centuries and is enclosed by walls built of red sandstone. Many of the old buildings inside the Medina have been damaged and some have collapsed entirely.\n",
      "Outside the city, images showed the 12th century Tinmal Mosque in the High Atlas mountains had been badly damaged. \n",
      "\n",
      "[{'generated_text': 'At least 2,497 people have been killed in the disaster and 2,476 have been injured'}]\n"
     ]
    }
   ],
   "source": [
    "#try complex one\n",
    "from transformers import AutoTokenizer, AutoModelForSeq2SeqLM, pipeline\n",
    "\n",
    "tokenizer = AutoTokenizer.from_pretrained(\"google/flan-t5-base\", model_max_length=100000)\n",
    "model = AutoModelForSeq2SeqLM.from_pretrained(\"google/flan-t5-base\")\n",
    "\n",
    "text2text_generator = pipeline(\"text2text-generation\", model=model, tokenizer=tokenizer)\n",
    "prompt_indo = f\"question: {question_indo} \\n context:{context_indo}\"\n",
    "print(prompt_indo)\n",
    "print(text2text_generator(prompt_indo))\n",
    "print(\"======================================================================================\")\n",
    "text2text_generator = pipeline(\"text2text-generation\", model=model, tokenizer=tokenizer)\n",
    "prompt_eng = f\"question: {question_eng} \\n context:{context_eng}\"\n",
    "print(prompt_eng)\n",
    "print(text2text_generator(prompt_eng))"
   ]
  },
  {
   "cell_type": "code",
   "execution_count": 17,
   "metadata": {},
   "outputs": [
    {
     "name": "stderr",
     "output_type": "stream",
     "text": [
      "Downloading (…)lve/main/config.json: 100%|██████████| 1.52k/1.52k [00:00<00:00, 5.58MB/s]\n",
      "Downloading pytorch_model.bin:   1%|          | 41.9M/6.71G [00:05<15:48, 7.03MB/s]"
     ]
    }
   ],
   "source": [
    "#try complex one with diff model\n",
    "from transformers import AutoTokenizer, AutoModelForSeq2SeqLM, pipeline\n",
    "\n",
    "pipe = pipeline(\"text2text-generation\", model=\"lmsys/fastchat-t5-3b-v1.0\")\n",
    "\n",
    "text2text_generator = pipeline(\"text2text-generation\", model=model, tokenizer=tokenizer)\n",
    "prompt_indo = f\"question: {question_indo} \\n context:{context_indo}\"\n",
    "print(prompt_indo)\n",
    "print(text2text_generator(prompt_indo))\n",
    "print(\"======================================================================================\")\n",
    "text2text_generator = pipeline(\"text2text-generation\", model=model, tokenizer=tokenizer)\n",
    "prompt_eng = f\"question: {question_eng} \\n context:{context_eng}\"\n",
    "print(prompt_eng)\n",
    "print(text2text_generator(prompt_eng))"
   ]
  },
  {
   "cell_type": "markdown",
   "metadata": {},
   "source": []
  }
 ],
 "metadata": {
  "kernelspec": {
   "display_name": "rplay",
   "language": "python",
   "name": "python3"
  },
  "language_info": {
   "codemirror_mode": {
    "name": "ipython",
    "version": 3
   },
   "file_extension": ".py",
   "mimetype": "text/x-python",
   "name": "python",
   "nbconvert_exporter": "python",
   "pygments_lexer": "ipython3",
   "version": "3.11.4"
  },
  "orig_nbformat": 4
 },
 "nbformat": 4,
 "nbformat_minor": 2
}
