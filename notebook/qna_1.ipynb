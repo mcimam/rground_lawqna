{
 "cells": [
  {
   "cell_type": "code",
   "execution_count": null,
   "metadata": {},
   "outputs": [],
   "source": []
  },
  {
   "cell_type": "markdown",
   "metadata": {},
   "source": [
    "# Description\n",
    "\n",
    "This is 1st attempt to understand hugging face question answer model\n",
    "\n",
    "**Reference**:\n",
    "- [ Model Reference](https://huggingface.co/tasks/question-answering)\n",
    "- [ How to Build an Open-Domain Question Answering System? ](https://lilianweng.github.io/posts/2020-10-29-odqa/)\n",
    "- [ A Model for Open Domain Long Form Question Answering ](https://yjernite.github.io/lfqa.html)\n",
    "- [ Question answering Training](https://github.com/huggingface/transformers/tree/main/examples/pytorch/question-answering)"
   ]
  },
  {
   "cell_type": "code",
   "execution_count": 3,
   "metadata": {},
   "outputs": [
    {
     "name": "stderr",
     "output_type": "stream",
     "text": [
      "No model was supplied, defaulted to distilbert-base-cased-distilled-squad and revision 626af31 (https://huggingface.co/distilbert-base-cased-distilled-squad).\n",
      "Using a pipeline without specifying a model name and revision in production is not recommended.\n",
      "No model was supplied, defaulted to distilbert-base-cased-distilled-squad and revision 626af31 (https://huggingface.co/distilbert-base-cased-distilled-squad).\n",
      "Using a pipeline without specifying a model name and revision in production is not recommended.\n"
     ]
    },
    {
     "name": "stdout",
     "output_type": "stream",
     "text": [
      "{'score': 0.9538118243217468, 'start': 31, 'end': 39, 'answer': 'İstanbul'}\n",
      "{'score': 0.47091472148895264, 'start': 29, 'end': 41, 'answer': 'di indonesia'}\n"
     ]
    }
   ],
   "source": [
    "# Use qna model w/o tuning\n",
    "\n",
    "from transformers import pipeline\n",
    "\n",
    "# First try to use english question\n",
    "qa_model = pipeline(\"question-answering\")\n",
    "question = \"Where do I live?\"\n",
    "context = \"My name is Merve and I live in İstanbul.\"\n",
    "print(qa_model(question = question, context = context))\n",
    "\n",
    "# Try to use indonesian question\n",
    "qa_model = pipeline(\"question-answering\")\n",
    "question = \"Dimana saya tinggal?\"\n",
    "context = \"Nama saya budi. Saya tinggal di indonesia.\"\n",
    "print(qa_model(question = question, context = context))"
   ]
  },
  {
   "cell_type": "code",
   "execution_count": 4,
   "metadata": {},
   "outputs": [
    {
     "name": "stderr",
     "output_type": "stream",
     "text": [
      "No model was supplied, defaulted to distilbert-base-cased-distilled-squad and revision 626af31 (https://huggingface.co/distilbert-base-cased-distilled-squad).\n",
      "Using a pipeline without specifying a model name and revision in production is not recommended.\n"
     ]
    },
    {
     "name": "stdout",
     "output_type": "stream",
     "text": [
      "{'score': 0.00030821224208921194, 'start': 1387, 'end': 1398, 'answer': 'Teletubbies'}\n"
     ]
    }
   ],
   "source": [
    "# Try to use longer question\n",
    "qa_model = pipeline(\"question-answering\")\n",
    "context = \"\"\"\n",
    "Salah satu calon pengantin yang menyebabkan kawasan Bukit Teletubbies kawasan Gunung Bromo terbakar akibat prewedding menggunakan flare atau suara, ternyata warga Palembang, Sumatera Selatan (Sumsel).\n",
    "Hal ini diungkapkan oleh akun instagram @opppsite6890.bytes yang menyebut jika calon pengantin wanita yang bernama Pratiwi Mandala Putri (26) adalah perempuan kelahiran Palembang, 3 November 1997.\n",
    "Bahkan diketahui, Pratiwi Mandala Putri warga Lorok Pakjo, Kecamatan Ilir Barat I Palembang. Dirinya pernah menempuh pendidikan di Universitas Katolik Musi Charitas, salah satu kampus swasta di Palembang.\n",
    "Selain itu, Pratiwi juga diketahui menempuh pendidikan di jurusan akuntansi pada tahun 2015 silam. Dirinya lulus pada tahun 2019 lalu.\n",
    "Dari informasi yang dibagikan juga diketahui, jika Pratiwi sudah berpindah domisili ke Tangerang. Dirinya diketahui merupakan supplier Smile Food di sana.\n",
    "Sebelumnya akun instagram milik pratiwi muncul bernama @pratiwimandala namun akibat kejadian ini akunnya pun berubah menjadi @user78970k. Hanya saja saat ini sudah hilang secara permanen yang diduga dihapus oleh yang bersangkutan\n",
    "Sama halnya dengan akun TikTok dan Facebook miliknya dengan nama Putri Mandala sudah tidak ditemukan. Diduga dirinya menghapus seluruh akun medsosnya usai identitasnya terungkap ke publik.\n",
    "Untuk diketahui dikutip dari kumparanNews kebakaran yang terjadi di Bukit Teletubbies kawasan Gunung Bromo, terjadi pada Kamis (7/9/2023) bukan karena faktor alam, tetapi ulah dari pengunjung. Rombongan pengunjung atau wisatawan itu hendak melaksanakan foto prewedding dengan menggunakan suar atau flare.\n",
    "Kebakaran yang terjadi di kawasan Gunung Bromo tersebut terekam kamera ponsel milik warga sekitar.\n",
    "Enam orang berhasil diamankan oleh pihak Taman Nasional Bromo Tengger Semeru (TNBTS) kemudian dibawa ke Polsek Sukapura.\n",
    "Dalam video berdurasi 41 detik itu menampilkan beberapa orang laki-laki dan perempuan dengan membawa peralatan seperti tripod dan kamera. Di belakangnya terlihat api yang makin membesar tepatnya di sekitar Padang Savana atau Bukit Teletubbies.\n",
    "\"\"\"\n",
    "question = \"Apa yang dibahas dalam berita tersebut?\"\n",
    "print(qa_model(question = question, context = context))"
   ]
  },
  {
   "cell_type": "code",
   "execution_count": 6,
   "metadata": {},
   "outputs": [
    {
     "name": "stdout",
     "output_type": "stream",
     "text": [
      "{'score': 0.09338667243719101, 'start': 12, 'end': 27, 'answer': 'calon pengantin'}\n"
     ]
    }
   ],
   "source": [
    "# Try to use longer question\n",
    "# try multiple model herer\n",
    "model_name = \"deepset/roberta-base-squad2\"\n",
    "qa_model = pipeline(\"question-answering\", model=model_name, tokenizer=model_name)\n",
    "context = \"\"\"\n",
    "Salah satu calon pengantin yang menyebabkan kawasan Bukit Teletubbies kawasan Gunung Bromo terbakar akibat prewedding menggunakan flare atau suara, ternyata warga Palembang, Sumatera Selatan (Sumsel).\n",
    "Hal ini diungkapkan oleh akun instagram @opppsite6890.bytes yang menyebut jika calon pengantin wanita yang bernama Pratiwi Mandala Putri (26) adalah perempuan kelahiran Palembang, 3 November 1997.\n",
    "Bahkan diketahui, Pratiwi Mandala Putri warga Lorok Pakjo, Kecamatan Ilir Barat I Palembang. Dirinya pernah menempuh pendidikan di Universitas Katolik Musi Charitas, salah satu kampus swasta di Palembang.\n",
    "Selain itu, Pratiwi juga diketahui menempuh pendidikan di jurusan akuntansi pada tahun 2015 silam. Dirinya lulus pada tahun 2019 lalu.\n",
    "Dari informasi yang dibagikan juga diketahui, jika Pratiwi sudah berpindah domisili ke Tangerang. Dirinya diketahui merupakan supplier Smile Food di sana.\n",
    "Sebelumnya akun instagram milik pratiwi muncul bernama @pratiwimandala namun akibat kejadian ini akunnya pun berubah menjadi @user78970k. Hanya saja saat ini sudah hilang secara permanen yang diduga dihapus oleh yang bersangkutan\n",
    "Sama halnya dengan akun TikTok dan Facebook miliknya dengan nama Putri Mandala sudah tidak ditemukan. Diduga dirinya menghapus seluruh akun medsosnya usai identitasnya terungkap ke publik.\n",
    "Untuk diketahui dikutip dari kumparanNews kebakaran yang terjadi di Bukit Teletubbies kawasan Gunung Bromo, terjadi pada Kamis (7/9/2023) bukan karena faktor alam, tetapi ulah dari pengunjung. Rombongan pengunjung atau wisatawan itu hendak melaksanakan foto prewedding dengan menggunakan suar atau flare.\n",
    "Kebakaran yang terjadi di kawasan Gunung Bromo tersebut terekam kamera ponsel milik warga sekitar.\n",
    "Enam orang berhasil diamankan oleh pihak Taman Nasional Bromo Tengger Semeru (TNBTS) kemudian dibawa ke Polsek Sukapura.\n",
    "Dalam video berdurasi 41 detik itu menampilkan beberapa orang laki-laki dan perempuan dengan membawa peralatan seperti tripod dan kamera. Di belakangnya terlihat api yang makin membesar tepatnya di sekitar Padang Savana atau Bukit Teletubbies.\n",
    "\"\"\"\n",
    "question = \"siapa yang menyebabkan kebakaran?\"\n",
    "print(qa_model(question = question, context = context))"
   ]
  }
 ],
 "metadata": {
  "kernelspec": {
   "display_name": "rplay",
   "language": "python",
   "name": "python3"
  },
  "language_info": {
   "codemirror_mode": {
    "name": "ipython",
    "version": 3
   },
   "file_extension": ".py",
   "mimetype": "text/x-python",
   "name": "python",
   "nbconvert_exporter": "python",
   "pygments_lexer": "ipython3",
   "version": "3.11.4"
  },
  "orig_nbformat": 4
 },
 "nbformat": 4,
 "nbformat_minor": 2
}
